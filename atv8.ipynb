{
 "cells": [
  {
   "cell_type": "code",
   "execution_count": 6,
   "metadata": {},
   "outputs": [],
   "source": [
    "import chemdraw\n",
    "import plotly as pl"
   ]
  },
  {
   "cell_type": "markdown",
   "metadata": {},
   "source": [
    "### Questão 1"
   ]
  },
  {
   "cell_type": "markdown",
   "metadata": {},
   "source": [
    "Usando o método QR, __se possível*__  \n",
    "  \n",
    "Apropriadamente numere os átomos de sua molécula e nos conte o contexto de obtenção dessa molécula ou onde está mais presente. Usando o método de Huckel (apenas para os orbitias pz), construa o determinante secular, calcule os níveis de energia, faça o diagrama de níveis, faça o preenchimento eletrônico destes níveis, calcule e escreva todos os orbitais moleculares.  \n",
    "Calcule para cada ligação (apresente sobre a ligação) as ordens de ligações e as populações eletrônicas. Faz sentido para ti? Analise seus dados sob a luz da química?  \n",
    "  \n",
    "**Esboce** os orbitais moleculares HOMO e LUMO. \n",
    "\n",
    "**Sua molécula é o Azepina**\n",
    "\n",
    "<img src=\"Azepine-2D-skeletal.png\" alt=\"Alt Text\" width=\"200\" height=\"252\">\n",
    "\n",
    "\n"
   ]
  },
  {
   "cell_type": "code",
   "execution_count": null,
   "metadata": {},
   "outputs": [],
   "source": [
    "mol = \"C1=CC=CNC=C1\"\n",
    "drawer = chemdraw.Drawer(mol, title=mol)\n",
    "fig = drawer.draw()\n",
    "fig.show()"
   ]
  },
  {
   "cell_type": "markdown",
   "metadata": {},
   "source": [
    "Fórmula molecular: C6H7N"
   ]
  },
  {
   "cell_type": "markdown",
   "metadata": {},
   "source": [
    "---\n",
    "### Questão 2"
   ]
  }
 ],
 "metadata": {
  "kernelspec": {
   "display_name": "base",
   "language": "python",
   "name": "python3"
  },
  "language_info": {
   "codemirror_mode": {
    "name": "ipython",
    "version": 3
   },
   "file_extension": ".py",
   "mimetype": "text/x-python",
   "name": "python",
   "nbconvert_exporter": "python",
   "pygments_lexer": "ipython3",
   "version": "3.12.7"
  }
 },
 "nbformat": 4,
 "nbformat_minor": 2
}
